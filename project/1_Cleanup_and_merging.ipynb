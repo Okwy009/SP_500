{
 "cells": [
  {
   "cell_type": "code",
   "execution_count": 1,
   "metadata": {},
   "outputs": [],
   "source": [
    "# Loading Libraries \n",
    "import kaggle\n",
    "import kagglehub\n",
    "import pandas as pd\n",
    "\n",
    "# Download dataset\n",
    "path = kagglehub.dataset_download(\"andrewmvd/sp-500-stocks\")\n",
    "\n",
    "# Load the dataset from the provided path\n",
    "file_path = r'C:\\Users\\hp\\.cache\\kagglehub\\datasets\\andrewmvd\\sp-500-stocks\\versions\\963\\sp500_stocks.csv'\n",
    "\n",
    "# Load the CSV file into a pandas DataFrame\n",
    "df_sp500 = pd.read_csv(file_path)"
   ]
  },
  {
   "cell_type": "code",
   "execution_count": 2,
   "metadata": {},
   "outputs": [],
   "source": [
    "# Data Cleanup\n",
    "# Convert Date to datetime format\n",
    "df_sp500['Date'] = pd.to_datetime(df_sp500['Date'])\n",
    "\n",
    "# Convert Symbol to category \n",
    "df_sp500['Symbol'] = df_sp500['Symbol'].astype('category')\n",
    "\n",
    "# Drop rows with missing values\n",
    "df_cleaned = df_sp500.dropna()"
   ]
  },
  {
   "cell_type": "code",
   "execution_count": 3,
   "metadata": {},
   "outputs": [
    {
     "name": "stdout",
     "output_type": "stream",
     "text": [
      "<class 'pandas.core.frame.DataFrame'>\n",
      "RangeIndex: 505 entries, 0 to 504\n",
      "Data columns (total 14 columns):\n",
      " #   Column          Non-Null Count  Dtype  \n",
      "---  ------          --------------  -----  \n",
      " 0   Symbol          505 non-null    object \n",
      " 1   Name            505 non-null    object \n",
      " 2   Sector          505 non-null    object \n",
      " 3   Price           505 non-null    float64\n",
      " 4   Price/Earnings  503 non-null    float64\n",
      " 5   Dividend Yield  505 non-null    float64\n",
      " 6   Earnings/Share  505 non-null    float64\n",
      " 7   52 Week Low     505 non-null    float64\n",
      " 8   52 Week High    505 non-null    float64\n",
      " 9   Market Cap      505 non-null    float64\n",
      " 10  EBITDA          505 non-null    float64\n",
      " 11  Price/Sales     505 non-null    float64\n",
      " 12  Price/Book      497 non-null    float64\n",
      " 13  SEC Filings     505 non-null    object \n",
      "dtypes: float64(10), object(4)\n",
      "memory usage: 55.4+ KB\n"
     ]
    }
   ],
   "source": [
    "# Download latest version\n",
    "path_sector = kagglehub.dataset_download(\"paytonfisher/sp-500-companies-with-financial-information\")\n",
    "\n",
    "# Load the dataset\n",
    "file_path_sector = r'C:\\Users\\hp\\.cache\\kagglehub\\datasets\\paytonfisher\\sp-500-companies-with-financial-information\\versions\\1\\financials.csv'\n",
    "df_sc = pd.read_csv(file_path_sector)"
   ]
  },
  {
   "cell_type": "code",
   "execution_count": 4,
   "metadata": {},
   "outputs": [],
   "source": [
    "# Fill missing values in Price/Earnings with a placeholder\n",
    "df_sc['Price/Earnings'] = df_sc['Price/Earnings'].fillna(-1)  # -1 as a placeholder\n",
    "\n",
    "# Convert Symbol to category so both symbols are of the same type\n",
    "df_sc['Symbol'] = df_sc['Symbol'].astype('category')\n",
    "df_sc_cleaned = df_sc"
   ]
  },
  {
   "cell_type": "code",
   "execution_count": 5,
   "metadata": {},
   "outputs": [],
   "source": [
    "# Perform the merge using 'Symbol' as the key\n",
    "merged_df = pd.merge(df_cleaned, df_sc_cleaned, on='Symbol', how='inner')"
   ]
  },
  {
   "cell_type": "code",
   "execution_count": 6,
   "metadata": {},
   "outputs": [
    {
     "name": "stdout",
     "output_type": "stream",
     "text": [
      "<class 'pandas.core.frame.DataFrame'>\n",
      "RangeIndex: 1364224 entries, 0 to 1364223\n",
      "Data columns (total 22 columns):\n",
      " #   Column          Non-Null Count    Dtype         \n",
      "---  ------          --------------    -----         \n",
      " 0   Date            1364224 non-null  datetime64[ns]\n",
      " 1   Symbol          1364224 non-null  object        \n",
      " 2   Adj Close       1364224 non-null  float64       \n",
      " 3   Close           1364224 non-null  float64       \n",
      " 4   High            1364224 non-null  float64       \n",
      " 5   Low             1364224 non-null  float64       \n",
      " 6   Open            1364224 non-null  float64       \n",
      " 7   Volume          1364224 non-null  float64       \n",
      " 8   Name            1364224 non-null  object        \n",
      " 9   Sector          1364224 non-null  category      \n",
      " 10  Price           1364224 non-null  float64       \n",
      " 11  Price/Earnings  1364224 non-null  float64       \n",
      " 12  Dividend Yield  1364224 non-null  float64       \n",
      " 13  Earnings/Share  1364224 non-null  float64       \n",
      " 14  52 Week Low     1364224 non-null  float64       \n",
      " 15  52 Week High    1364224 non-null  float64       \n",
      " 16  Market Cap      1364224 non-null  float64       \n",
      " 17  EBITDA          1364224 non-null  float64       \n",
      " 18  Price/Sales     1364224 non-null  float64       \n",
      " 19  Price/Book      1342160 non-null  float64       \n",
      " 20  SEC Filings     1364224 non-null  object        \n",
      " 21  Daily_Return    1364223 non-null  float64       \n",
      "dtypes: category(1), datetime64[ns](1), float64(17), object(3)\n",
      "memory usage: 219.9+ MB\n"
     ]
    }
   ],
   "source": [
    "merged_df['Sector'] = merged_df['Sector'].astype('category')\n",
    "\n",
    "# Calculate Daily Return by filling missing values and then applying percentage change\n",
    "merged_df['Daily_Return'] = merged_df['Adj Close'].ffill().pct_change()\n",
    "\n",
    "merged_df.info()"
   ]
  },
  {
   "cell_type": "code",
   "execution_count": 7,
   "metadata": {},
   "outputs": [],
   "source": [
    "merged_df.to_csv('merged_sp500_data.csv', index=False)\n"
   ]
  }
 ],
 "metadata": {
  "kernelspec": {
   "display_name": "python_course",
   "language": "python",
   "name": "python3"
  },
  "language_info": {
   "codemirror_mode": {
    "name": "ipython",
    "version": 3
   },
   "file_extension": ".py",
   "mimetype": "text/x-python",
   "name": "python",
   "nbconvert_exporter": "python",
   "pygments_lexer": "ipython3",
   "version": "3.11.9"
  }
 },
 "nbformat": 4,
 "nbformat_minor": 2
}
